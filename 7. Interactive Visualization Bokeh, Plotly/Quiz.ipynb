{
 "cells": [
  {
   "cell_type": "markdown",
   "metadata": {},
   "source": [
    "<h1>Quiz</h1>"
   ]
  },
  {
   "cell_type": "markdown",
   "metadata": {},
   "source": [
    "1. นาย A,B,C,D,E มีรายได้ 10,000 20,000 30,000 40,000 60,000 ต่อเดือนในปี 2020 ตามลำดับ ทุกๆปีเงินเดือนจะเพิ่ม 7% จงสร้าง DataFrame เก็บเงินเดือนของทั้ง 5 นาย ในปี 2016,2017,2018,2019,2020"
   ]
  },
  {
   "cell_type": "code",
   "execution_count": 1,
   "metadata": {},
   "outputs": [],
   "source": [
    "import numpy as np\n",
    "import pandas as pd"
   ]
  },
  {
   "cell_type": "code",
   "execution_count": null,
   "metadata": {},
   "outputs": [],
   "source": []
  },
  {
   "cell_type": "markdown",
   "metadata": {},
   "source": [
    "2. ใช้ข้อมูลจากข้อ 1 สร้าง Bar Plot ให้แกน X เป็นชื่อ และแกน Y เป็นเงินของปี 2017 คูณ 2 และสลับแกน (สองกราฟ) และปรับให้แกน X เอียง -45 องศา"
   ]
  },
  {
   "cell_type": "code",
   "execution_count": null,
   "metadata": {},
   "outputs": [],
   "source": []
  },
  {
   "cell_type": "markdown",
   "metadata": {},
   "source": [
    "3. จากข้อ 2 ให้ตั้งชื่อกราฟให้เหมาะสม เป็นชื่อแกน X Y ให้เหมาะสมและให้ไล่สีจากเงินเดือนปี 2016 รวมถึงเมื่อนำเม้าส์ไปวาง จะแสดงเงินเดือนเงินเดือนของแต่ละปี และเงินเดือนเฉลี่ย (จะเพิ่ม column ใน DataFrame หรือจะคำนวณแยกก็ได้)"
   ]
  },
  {
   "cell_type": "code",
   "execution_count": null,
   "metadata": {},
   "outputs": [],
   "source": []
  },
  {
   "cell_type": "markdown",
   "metadata": {},
   "source": [
    "ให้ Import ไฟล์ Titanic จากบทเรียน Pandas เข้าสู่ Jupyter Notebook"
   ]
  },
  {
   "cell_type": "code",
   "execution_count": 2,
   "metadata": {},
   "outputs": [],
   "source": [
    "df = pd.read_csv('..\\\\4. Pandas\\\\train.csv')"
   ]
  },
  {
   "cell_type": "markdown",
   "metadata": {},
   "source": [
    "4. สร้าง Line Graph โดยให้แกน Y เป็นราคาเฉลี่ยของค่าโดยสารของแต่ละอายุ และแกน X เป็นอายุ พร้อมทั้งแก้ชื่อแกน ตั้งชื่อกราฟให้เหมาะสม"
   ]
  },
  {
   "cell_type": "code",
   "execution_count": null,
   "metadata": {},
   "outputs": [],
   "source": []
  },
  {
   "cell_type": "markdown",
   "metadata": {},
   "source": [
    "5. สร้าง Line Graph โดยให้แกน Y เป็นราคาเฉลี่ยของค่าโดยสารของแต่ละชั้นโดยสาร และแกน X เป็นชั้นโดยสาร พร้อมทั้งแก้ชื่อแกน ตั้งชื่อกราฟให้เหมาะสม"
   ]
  },
  {
   "cell_type": "code",
   "execution_count": null,
   "metadata": {},
   "outputs": [],
   "source": []
  },
  {
   "cell_type": "markdown",
   "metadata": {},
   "source": [
    "6. สร้าง Pie Chart หา Sum ของราคาค่าโดยสารแต่ละอายุ"
   ]
  },
  {
   "cell_type": "code",
   "execution_count": null,
   "metadata": {},
   "outputs": [],
   "source": []
  },
  {
   "cell_type": "markdown",
   "metadata": {},
   "source": [
    "7. สร้าง Pie Chart หา Mean ของราคาค่าโดยสารแต่ละอายุ"
   ]
  },
  {
   "cell_type": "code",
   "execution_count": null,
   "metadata": {},
   "outputs": [],
   "source": []
  },
  {
   "cell_type": "markdown",
   "metadata": {},
   "source": [
    "8. สร้าง Pie Chart หา Mean ของราคาของคนที่มีมีนามสกุลซ้ำกัน (จากแบบฝึกหัด Pandas)"
   ]
  },
  {
   "cell_type": "code",
   "execution_count": null,
   "metadata": {},
   "outputs": [],
   "source": []
  },
  {
   "cell_type": "markdown",
   "metadata": {},
   "source": [
    "9. สร้าง Pie Chart หา Mean ของอายุของคนที่มีมีนามสกุลซ้ำกัน (จากแบบฝึกหัด Pandas) พร้อมทั้งตั้งชื่อและเปลี่ยนสี"
   ]
  },
  {
   "cell_type": "code",
   "execution_count": null,
   "metadata": {},
   "outputs": [],
   "source": []
  },
  {
   "cell_type": "markdown",
   "metadata": {},
   "source": [
    "10. สร้าง Pie Chart หา Mean ของแต่ละจุดหมายปลายทาง (Embarked) พร้อมทั้งตั้งชื่อและเปลี่ยนสี"
   ]
  },
  {
   "cell_type": "code",
   "execution_count": null,
   "metadata": {},
   "outputs": [],
   "source": []
  },
  {
   "cell_type": "markdown",
   "metadata": {},
   "source": [
    "11. สร้าง Bubble Chart ให้แกน X เป็นช่วงอายุ แกน Y เป็นราคาเฉลี่ย ขนาดตามจำนวนเฉลี่ยของพี่น้องและคู่สมรส (เช็คคอลัมน์) ในช่วงอายุนั้น พร้อมทั้งตั้งชื่อแกน X Y และชื่อกราฟ และไล่สีตามค่าเฉลี่ยของ Pclass"
   ]
  },
  {
   "cell_type": "code",
   "execution_count": null,
   "metadata": {},
   "outputs": [],
   "source": []
  },
  {
   "cell_type": "markdown",
   "metadata": {},
   "source": [
    "12. สร้าง Box Plot ให้แกน X เป็นเพศ และ แกน Y เป็นราคา"
   ]
  },
  {
   "cell_type": "code",
   "execution_count": null,
   "metadata": {},
   "outputs": [],
   "source": []
  },
  {
   "cell_type": "markdown",
   "metadata": {},
   "source": [
    "13. สร้าง Box Plot ให้แกน X เป็นPclass และ แกน Y เป็นราคา"
   ]
  },
  {
   "cell_type": "code",
   "execution_count": null,
   "metadata": {},
   "outputs": [],
   "source": []
  },
  {
   "cell_type": "markdown",
   "metadata": {},
   "source": [
    "14. สร้าง Box Plot ให้แกน X เป็นPclass และ แกน Y เป็นอายุ ให้ Points = all"
   ]
  },
  {
   "cell_type": "code",
   "execution_count": null,
   "metadata": {},
   "outputs": [],
   "source": []
  },
  {
   "cell_type": "markdown",
   "metadata": {},
   "source": [
    "15. สร้าง Box Plot ให้แกน X เป็น Survived แกน Y เป็นอายุ และสีเป็นเพศ"
   ]
  },
  {
   "cell_type": "code",
   "execution_count": null,
   "metadata": {},
   "outputs": [],
   "source": []
  },
  {
   "cell_type": "markdown",
   "metadata": {},
   "source": [
    "16. สร้าง barplot โดยให้ แกน X เป็นจุดหมายปลายทางและแกน Y เป็น std ของราคา"
   ]
  },
  {
   "cell_type": "code",
   "execution_count": null,
   "metadata": {},
   "outputs": [],
   "source": []
  },
  {
   "cell_type": "markdown",
   "metadata": {},
   "source": [
    "17. สร้าง barplot โดยให้ แกน X เป็นชั้นที่นั่ง และแกน Y เป็น Mean ของอายุ"
   ]
  },
  {
   "cell_type": "code",
   "execution_count": null,
   "metadata": {},
   "outputs": [],
   "source": []
  },
  {
   "cell_type": "markdown",
   "metadata": {},
   "source": [
    "18. สร้าง HeatMap โดย pivot table กำหนดให้ index เป็น Pclass และ column เป็นเพศ และ values เป็น ราคาเฉลี่ย"
   ]
  },
  {
   "cell_type": "code",
   "execution_count": null,
   "metadata": {},
   "outputs": [],
   "source": []
  },
  {
   "cell_type": "markdown",
   "metadata": {},
   "source": [
    "19. สร้าง Heatmap โดย Correlation ของทั้ง DataFrame และเปลี่ยนสี"
   ]
  },
  {
   "cell_type": "code",
   "execution_count": null,
   "metadata": {},
   "outputs": [],
   "source": []
  },
  {
   "cell_type": "markdown",
   "metadata": {},
   "source": [
    "20. ใช้ไฟล์ 2011_us_ag_exports.csv สร้าง Choropleth ของอเมริกาโดยไล่สีตาม Cotton และเมื่อนำเม้าส์ไปวาง จะเห็นรายละเอียด total exports, total fruits, total veggies"
   ]
  },
  {
   "cell_type": "code",
   "execution_count": null,
   "metadata": {},
   "outputs": [],
   "source": []
  },
  {
   "cell_type": "markdown",
   "metadata": {},
   "source": [
    "21. ใช้ไฟล์ 2011_us_ag_exports.csv สร้าง Choropleth ของอเมริกาโดยไล่สีตาม Total veggies และเมื่อนำเม้าส์ไปวาง จะเห็นรายละเอียด อัตราส่วน beef ต่อ pork เป็นเลขทศนิยม 2 ตำแหน่ง"
   ]
  },
  {
   "cell_type": "code",
   "execution_count": null,
   "metadata": {},
   "outputs": [],
   "source": []
  },
  {
   "cell_type": "markdown",
   "metadata": {},
   "source": [
    "22. สุ่ม 10 States จากไฟล์ข้างต้น นำมาสร้าง Bar plot โดยแกน Y เป็น Total Exports และไล่สีตามอัตราส่วน cotton ต่อ Wheat พร้อมทั้งเปลี่ยนชื่อแกน และตั้งชื่อกราฟ (ถ้าอัตราส่วนหาค่าไม่ได้ให้ใช้ 0)"
   ]
  },
  {
   "cell_type": "code",
   "execution_count": null,
   "metadata": {},
   "outputs": [],
   "source": []
  },
  {
   "cell_type": "markdown",
   "metadata": {},
   "source": [
    "---"
   ]
  }
 ],
 "metadata": {
  "kernelspec": {
   "display_name": "Python 3",
   "language": "python",
   "name": "python3"
  },
  "language_info": {
   "codemirror_mode": {
    "name": "ipython",
    "version": 3
   },
   "file_extension": ".py",
   "mimetype": "text/x-python",
   "name": "python",
   "nbconvert_exporter": "python",
   "pygments_lexer": "ipython3",
   "version": "3.7.6"
  }
 },
 "nbformat": 4,
 "nbformat_minor": 4
}
