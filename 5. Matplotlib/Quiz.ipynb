{
 "cells": [
  {
   "cell_type": "markdown",
   "metadata": {},
   "source": [
    "<h1>Quiz</h1>"
   ]
  },
  {
   "attachments": {},
   "cell_type": "markdown",
   "metadata": {},
   "source": [
    "1. สร้างกราฟธรรมดาเป็นฟังก์ชั่น Y = X^2 พร้อมใส่ชื่อกราฟ รายละเอียดแต่ละแกน"
   ]
  },
  {
   "cell_type": "code",
   "execution_count": null,
   "metadata": {},
   "outputs": [],
   "source": []
  },
  {
   "attachments": {},
   "cell_type": "markdown",
   "metadata": {},
   "source": [
    "2. สร้างกราฟฟังก์ชั่น Sin (เหมือนตัวอย่าง) พร้อมใส่ชื่อกราฟ รายละเอียดแต่ละแกน เปลี่ยนสีเส้นเป็นสีชมพู"
   ]
  },
  {
   "cell_type": "code",
   "execution_count": null,
   "metadata": {},
   "outputs": [],
   "source": []
  },
  {
   "attachments": {},
   "cell_type": "markdown",
   "metadata": {},
   "source": [
    "3. สร้างกราฟธรรมดาเป็นฟังก์ชั่น X = Y^2 พร้อมใส่ชื่อกราฟ รายละเอียดแต่ละแกน เปลี่ยนสีเส้นเป็นสีเขียวอ่อนโดยใช้ค่ารหัสสีฐานสิบหก"
   ]
  },
  {
   "cell_type": "code",
   "execution_count": null,
   "metadata": {},
   "outputs": [],
   "source": []
  },
  {
   "attachments": {},
   "cell_type": "markdown",
   "metadata": {},
   "source": [
    "4. สร้างกราฟฟังก์ชั่น Cos (เหมือนตัวอย่าง) พร้อมใส่ชื่อกราฟ รายละเอียดแต่ละแกน เปลี่ยนสีเส้นเป็นสีแดง ใส่ Line Style เป็นเส้น - -"
   ]
  },
  {
   "cell_type": "code",
   "execution_count": null,
   "metadata": {},
   "outputs": [],
   "source": []
  },
  {
   "attachments": {},
   "cell_type": "markdown",
   "metadata": {},
   "source": [
    "5. สร้างกราฟธรรมดาเป็นฟังก์ชั่น Y = X^2 และ Y = X^3 พล็อตลงในรูปเดียวกัน พร้อมใส่ชื่อกราฟ รายละเอียดแต่ละแกน ใช้สีแดงและน้ำเงินตามลำดับ โดยเส้นแรกใช้วงกลมเป็น marker และเส้นสองใช้สามเหลี่ยมเป็น marker"
   ]
  },
  {
   "cell_type": "code",
   "execution_count": null,
   "metadata": {},
   "outputs": [],
   "source": []
  },
  {
   "attachments": {},
   "cell_type": "markdown",
   "metadata": {},
   "source": [
    "6. สร้างกราฟธรรมดาเป็นฟังก์ชั่น Y = X^2 และ X = Y^2 พล็อตลงในรูปเดียวกัน พร้อมใส่ชื่อกราฟ รายละเอียดแต่ละแกน ใช้สีแดงและน้ำเงินตามลำดับ โดยเส้นแรกใช้วงกลมเป็น marker และเส้นสองใช้สามเหลี่ยมเป็น marker และใส่ legend และเพิ่มเส้นตารางข้างหลัง"
   ]
  },
  {
   "cell_type": "code",
   "execution_count": null,
   "metadata": {},
   "outputs": [],
   "source": []
  },
  {
   "attachments": {},
   "cell_type": "markdown",
   "metadata": {},
   "source": [
    "7. สร้างกราฟธรรมดาเป็นฟังก์ชั่น X = Y^2 + 4*Y พร้อมใส่ชื่อกราฟ รายละเอียดแต่ละแกน เปลี่ยนสีเส้นเป็นสีเหลืองอ่อนโดยใช้ค่ารหัสสีฐานสิบหก จำกัดแกน X และ Y ให้เหมาะสม"
   ]
  },
  {
   "cell_type": "code",
   "execution_count": null,
   "metadata": {},
   "outputs": [],
   "source": []
  },
  {
   "attachments": {},
   "cell_type": "markdown",
   "metadata": {},
   "source": [
    "8. สร้างกราฟใหญ่ด้วยสมการ X = Y^3 และกราฟเล็กด้วย Y = X^2 + 2 พล็อตลงในรูปเดียวกัน พร้อมใส่ชื่อกราฟ รายละเอียดแต่ละแกน และใส่ legend"
   ]
  },
  {
   "cell_type": "code",
   "execution_count": null,
   "metadata": {},
   "outputs": [],
   "source": []
  },
  {
   "attachments": {},
   "cell_type": "markdown",
   "metadata": {},
   "source": [
    "ให้ import ไฟล์ titanic ไฟล์เดิมจากบทเรียน Pandas เข้าสู่ Jupyter Notebook สามารถใช้ Pandas มาร่วมทำด้วย"
   ]
  },
  {
   "attachments": {},
   "cell_type": "markdown",
   "metadata": {},
   "source": [
    "9. ให้หาอัตราส่วนตั๋วโดยสารชั้น 1 2 3 และพล็อตเป็น Pie chart"
   ]
  },
  {
   "cell_type": "code",
   "execution_count": null,
   "metadata": {},
   "outputs": [],
   "source": []
  },
  {
   "attachments": {},
   "cell_type": "markdown",
   "metadata": {},
   "source": [
    "10. ให้หาอัตราส่วนของจุดหมายปลายทาง (Embark) และพล็อต Pie chat พร้อมทั้งให้ Queenstown เป็น explode"
   ]
  },
  {
   "cell_type": "code",
   "execution_count": null,
   "metadata": {},
   "outputs": [],
   "source": []
  },
  {
   "attachments": {},
   "cell_type": "markdown",
   "metadata": {},
   "source": [
    "11. นำราคาตั๋วโดยสารทั้งหมดมาหา histogram"
   ]
  },
  {
   "cell_type": "code",
   "execution_count": null,
   "metadata": {},
   "outputs": [],
   "source": []
  },
  {
   "attachments": {},
   "cell_type": "markdown",
   "metadata": {},
   "source": [
    "12. สร้างพล็อตแบบกระจายโดยให้อายุเป็นแกน X และ ราคาตั๋วโดยสารเป็นแกน Y"
   ]
  },
  {
   "cell_type": "code",
   "execution_count": null,
   "metadata": {},
   "outputs": [],
   "source": []
  },
  {
   "attachments": {},
   "cell_type": "markdown",
   "metadata": {},
   "source": [
    "13. สร้าง bar chart โดยใช้ข้อมูลจากราคาตั๋วโดยสารเฉลี่ยแต่ละชั้น"
   ]
  },
  {
   "cell_type": "code",
   "execution_count": null,
   "metadata": {},
   "outputs": [],
   "source": []
  },
  {
   "attachments": {},
   "cell_type": "markdown",
   "metadata": {},
   "source": [
    "14. สร้าง bar chart โดยใช้ข้อมูลจากราคาตั๋วโดยสารต่ออายุของผู้โดยสาร"
   ]
  },
  {
   "cell_type": "code",
   "execution_count": null,
   "metadata": {},
   "outputs": [],
   "source": []
  },
  {
   "attachments": {},
   "cell_type": "markdown",
   "metadata": {},
   "source": [
    "15. สร้าง bar chart โดยใช้ข้อมูลผู้ที่นามสกุลซ้ำกัน โดยความถี่เป็นแกน Y"
   ]
  },
  {
   "cell_type": "code",
   "execution_count": null,
   "metadata": {},
   "outputs": [],
   "source": []
  },
  {
   "attachments": {},
   "cell_type": "markdown",
   "metadata": {},
   "source": [
    "16. (Optional) สร้างหลายกราฟในรูปเดียว โดยมีสองคอลัมน์ คอลัมน์แรกมีสามแถว คอลัมน์สองมีสองแถว พร้อมใส่ชื่อกราฟ รายละเอียดแต่ละแกน โดยสมการแต่ละกราฟสามารถคิดเองได้โดยใช้ข้อมูลจากไฟล์ titanic และไม่ต้องซ้ำกัน"
   ]
  },
  {
   "cell_type": "code",
   "execution_count": null,
   "metadata": {},
   "outputs": [],
   "source": []
  },
  {
   "cell_type": "markdown",
   "metadata": {},
   "source": [
    "---"
   ]
  }
 ],
 "metadata": {
  "kernelspec": {
   "display_name": "Python 3",
   "language": "python",
   "name": "python3"
  },
  "language_info": {
   "codemirror_mode": {
    "name": "ipython",
    "version": 3
   },
   "file_extension": ".py",
   "mimetype": "text/x-python",
   "name": "python",
   "nbconvert_exporter": "python",
   "pygments_lexer": "ipython3",
   "version": "3.7.6"
  }
 },
 "nbformat": 4,
 "nbformat_minor": 4
}
